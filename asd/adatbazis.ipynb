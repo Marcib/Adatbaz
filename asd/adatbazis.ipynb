{
    "metadata": {
        "kernelspec": {
            "name": "SQL",
            "display_name": "SQL",
            "language": "sql"
        },
        "language_info": {
            "name": "sql",
            "version": ""
        },
        "extensions": {
            "azuredatastudio": {
                "version": 1,
                "views": []
            }
        }
    },
    "nbformat_minor": 2,
    "nbformat": 4,
    "cells": [
        {
            "cell_type": "markdown",
            "source": [
                "Készítsünk sorszámozott listát a szálláshelyek adatairól! \n",
                "\n",
                "a. A lista legyen a szálláshely típusa szerint, azon belül hely szerint, majd a neve szerint növekvően rendezve! \n",
                "\n",
                "b. A számozás típusonként kezdődjön újra!"
            ],
            "metadata": {
                "azdata_cell_guid": "0169da75-dde6-481d-9a20-1bd4d783b662"
            },
            "attachments": {}
        },
        {
            "cell_type": "code",
            "source": [
                "select *,ROW_NUMBER() over(PARTITION by tipus order by tipus,hely,szallas_nev)\r\n",
                " from  Szallashely"
            ],
            "metadata": {
                "azdata_cell_guid": "815e3c22-0cf1-4b70-a8d8-3abee67807be",
                "tags": []
            },
            "outputs": [],
            "execution_count": null
        },
        {
            "cell_type": "markdown",
            "source": [
                "3\n",
                "\n",
                "Készítsük listát, amely megjeleníti az ügyfelek azonosítóját, nevét és a foglalásainak kezdő- és befejező dátumát, valamint azt, hogy a foglalás összesen hány főre történt! \n",
                "\n",
                "a. Egy új oszlopban jelenítsük meg azt is, hogy az ügyfél előző három foglalása összesen hány főre történt!"
            ],
            "metadata": {
                "azdata_cell_guid": "cf598654-16f0-433f-b948-48fc57101ab0"
            },
            "attachments": {}
        },
        {
            "cell_type": "code",
            "source": [
                "Select u.[LOGIN], u.NEV, f.METTOL, f.MEDDIG,f.FELNOTT_SZAM + f.GYERMEK_SZAM,\r\n",
                "sum(f.FELNOTT_SZAM + f.GYERMEK_SZAM) OVER (PARTITION by u.LOGIN ORDER by f.mettol ROWS BETWEEN 3 Preceding and 1 Preceding)\r\n",
                "from Foglalas f join  Ugyfel u on f.UGYFEL_FK=u.[LOGIN]"
            ],
            "metadata": {
                "azdata_cell_guid": "10a7a42b-a1ef-430a-8631-9e41405a0f7c",
                "tags": []
            },
            "outputs": [],
            "execution_count": null
        },
        {
            "cell_type": "markdown",
            "source": [
                "6\n",
                "\n",
                "<span style=\"color: rgb(18, 38, 44); font-family: Arial; font-size: 15px; background-color: rgb(239, 249, 252);\">Alakítsa át a melléklet 1. pontjában lévő lekérdezést úgy, hogy JOIN helyett CROSS APPLY-t alkalmaz!</span>  \n",
                "<span style=\"color: rgb(18, 38, 44); font-family: Arial; font-size: 15px; background-color: rgb(239, 249, 252);\">a. Válaszként adja meg az átalakított lekérdezés kódját!</span>"
            ],
            "metadata": {
                "azdata_cell_guid": "7c071c35-7e3f-43c3-97bc-69fa4d2eec64"
            },
            "attachments": {}
        },
        {
            "cell_type": "code",
            "source": [
                "SELECT rt.TERMEKKOD, \r\n",
                "       AVG(rt.EGYSEGAR) AS 'Átlagos ár'\r\n",
                "FROM Rendeles_tetel rt \r\n",
                "CROSS APPLY\r\n",
                "(\r\n",
                "    Select * from Rendeles r\r\n",
                "     where rt.SORSZAM = r.SORSZAM\r\n",
                ")r\r\n",
                "GROUP BY rt.TERMEKKOD"
            ],
            "metadata": {
                "azdata_cell_guid": "18a5dfae-0cbd-4d37-b0ce-623bbd8e6426"
            },
            "outputs": [],
            "execution_count": null
        },
        {
            "cell_type": "markdown",
            "source": [
                "<span style=\"color: rgb(18, 38, 44); font-family: Arial; font-size: 15px; background-color: rgb(239, 249, 252);\">7</span>\n",
                "\n",
                "<span style=\"color: rgb(18, 38, 44); font-family: Arial; font-size: 15px; background-color: rgb(239, 249, 252);\">Alakítsa át a melléklet 2. pontjában lévő lekérdezést úgy, hogy mindkét (INNER) JOIN részbe sorra beilleszti a tanult JOIN HINT-eket (először mindkét helyre MERGE, majd HASH, utána LOOP, végül REMOTE).</span>  \n",
                "<span style=\"color: rgb(18, 38, 44); font-family: Arial; font-size: 15px; background-color: rgb(239, 249, 252);\">a. Melyik hint használata adja a legjobb megoldást?</span>  \n",
                "<span style=\"color: rgb(18, 38, 44); font-family: Arial; font-size: 15px; background-color: rgb(239, 249, 252);\">b. Mi lesz ezt a hint-et tartalmazó lekérdezés kódja?</span>"
            ],
            "metadata": {
                "azdata_cell_guid": "45996502-e41c-42ad-b97a-21daa3906ec5"
            },
            "attachments": {}
        },
        {
            "cell_type": "code",
            "source": [
                "SELECT rt.*,\r\n",
                "       u.nev,\r\n",
                "       SUM(rt.mennyiseg*rt.egysegar) \r\n",
                "\t   OVER(PARTITION BY r.LOGIN ORDER BY rt.SORSZAM, termekkod \r\n",
                "\t     RANGE BETWEEN UNBOUNDED PRECEDING AND CURRENT ROW) \r\n",
                "\t   AS 'Eddigi rendelési tételek összértéke'\r\n",
                "FROM Rendeles_tetel rt Inner LOOP JOIN Rendeles r \r\n",
                "     ON rt.SORSZAM = r.SORSZAM\r\n",
                "\t Inner LOOP JOIN Ugyfel u ON r.LOGIN = u.LOGIN"
            ],
            "metadata": {
                "azdata_cell_guid": "ff0d2d81-7b64-4240-8955-fab1d899ebf9"
            },
            "outputs": [],
            "execution_count": null
        },
        {
            "cell_type": "markdown",
            "source": [
                "<span style=\"color: rgb(18, 38, 44); font-family: Arial; font-size: 15px; background-color: rgb(239, 249, 252);\">8</span>\n",
                "\n",
                "<span style=\"color: rgb(18, 38, 44); font-family: Arial; font-size: 15px; background-color: rgb(239, 249, 252);\">Készítsen non-clustered indexet a Rendeles_tetel táblához!</span>  \n",
                "<span style=\"color: rgb(18, 38, 44); font-family: Arial; font-size: 15px; background-color: rgb(239, 249, 252);\">a. Az index neve NCI_sorszam_termekkod legyen</span>  \n",
                "<span style=\"color: rgb(18, 38, 44); font-family: Arial; font-size: 15px; background-color: rgb(239, 249, 252);\">b. A sorszam legyen az index kulcs oszlop, a termékkód pedig az indexbe belefoglalt oszlop</span>  \n",
                "<span style=\"color: rgb(18, 38, 44); font-family: Arial; font-size: 15px; background-color: rgb(239, 249, 252);\">c. Válaszként adja meg az indexet generáló script-et!</span>"
            ],
            "metadata": {
                "azdata_cell_guid": "b633088f-f34f-4b6d-830a-823aa174aed5"
            },
            "attachments": {}
        },
        {
            "cell_type": "code",
            "source": [
                ""
            ],
            "metadata": {
                "azdata_cell_guid": "bb6c2f14-87d8-4c1c-810d-14eab8c988d4"
            },
            "outputs": [],
            "execution_count": null
        },
        {
            "cell_type": "markdown",
            "source": [
                "<span style=\"color: rgb(18, 38, 44); font-family: Arial; font-size: 15px; background-color: rgb(239, 249, 252);\">9</span>\n",
                "\n",
                "<span style=\"color: rgb(18, 38, 44); font-family: Arial; font-size: 15px; background-color: rgb(239, 249, 252);\">A mellékletben lévő 2. lekérdezéshez készítsen TABLE HINT-et a következőképpen:</span>  \n",
                "<span style=\"color: rgb(18, 38, 44); font-family: Arial; font-size: 15px; background-color: rgb(239, 249, 252);\">a. Először állítsa be, hogy a lekérdezésnél a Rendeles_tetel tábla esetén a PK_Rendeles_tetel index legyen használva. Futtassa le így a lekérdezést, majd jegyezze fel a lekérdezés futási idejét!</span>  \n",
                "<span style=\"color: rgb(18, 38, 44); font-family: Arial; font-size: 15px; background-color: rgb(239, 249, 252);\">b. Utána állítsa be, hogy a lekérdezésnél a Rendeles_tetel tábla esetén az NCI_sorszam_termekkod index legyen használva. Itt is futtassa a lekérdezéstm majd jegyezze meg a lekérdezés futási időt.</span>  \n",
                "<span style=\"color: rgb(18, 38, 44); font-family: Arial; font-size: 15px; background-color: rgb(239, 249, 252);\">c. Válaszként adja meg a gyorsabb változathoz tartozó lekérdezés kódját!</span>"
            ],
            "metadata": {
                "azdata_cell_guid": "13a0e7f1-cbf6-4036-8fdf-90d02d727bb6"
            },
            "attachments": {}
        },
        {
            "cell_type": "code",
            "source": [
                "SELECT rt.*,\r\n",
                "       u.nev,\r\n",
                "       SUM(rt.mennyiseg*rt.egysegar) \r\n",
                "\t   OVER(PARTITION BY r.LOGIN ORDER BY rt.SORSZAM, termekkod \r\n",
                "\t     RANGE BETWEEN UNBOUNDED PRECEDING AND CURRENT ROW) \r\n",
                "\t   AS 'Eddigi rendel�si t�telek �ssz�rt�ke'\r\n",
                "FROM Rendeles_tetel rt JOIN Rendeles r \r\n",
                "     ON rt.SORSZAM = r.SORSZAM\r\n",
                "\t JOIN Ugyfel u ON r.LOGIN = u.LOGIN\r\n",
                "     Option (TABLE Hint(rt,INDEX(NCI_sorszam_termekkod)))"
            ],
            "metadata": {
                "azdata_cell_guid": "dc63a9c4-4a50-4d07-838d-d4c10422b220"
            },
            "outputs": [],
            "execution_count": null
        },
        {
            "cell_type": "markdown",
            "source": [
                "<span style=\"color: rgb(18, 38, 44); font-family: Arial; font-size: 15px; background-color: rgb(239, 249, 252);\">Számítsa ki, hogy átlagosan hány napig tartottak a foglalások&nbsp;</span> <span style=\"box-sizing: border-box; color: rgb(18, 38, 44); font-family: Arial; font-size: 0.9375rem; background-color: rgb(239, 249, 252);\">szállásonként, illetve ügyfelenként (külön-külön)!<br style=\"box-sizing: border-box;\">A szállás,&nbsp;</span> <span style=\"box-sizing: border-box; color: rgb(18, 38, 44); font-family: Arial; font-size: 0.9375rem; background-color: rgb(239, 249, 252);\">illetve az ügyfél esetén elég az azonosítójukat megadni.&nbsp;</span>"
            ],
            "metadata": {
                "azdata_cell_guid": "9dc94bae-c32c-45df-887a-8cab1447d40c"
            },
            "attachments": {}
        },
        {
            "cell_type": "code",
            "source": [
                "SELECT sz.szallas_fk, f.ugyfel_fk ,avg(DATEDIFF(day,f.METTOL,f.MEDDIG))  from Foglalas f join szoba sz on f.szoba_fk =sz.szoba_id\r\n",
                "GROUP by GROUPING SETS(sz.SZALLAS_FK,f.UGYFEL_FK)"
            ],
            "metadata": {
                "azdata_cell_guid": "031aa5d2-50cf-470a-8fbd-093829b0b3f0",
                "tags": []
            },
            "outputs": [],
            "execution_count": null
        },
        {
            "cell_type": "markdown",
            "source": [
                "Készítsünk lekérdezést, amely megadja, hogy szállás típusonként, <span style=\"box-sizing: border-box; font-size: 0.9375rem;\">azon belül szálláshely kategóriánként (csillagok_szama) hány&nbsp;</span> <span style=\"box-sizing: border-box; font-size: 0.9375rem;\">db szálláshely van!&nbsp;</span> \n",
                "<span style=\"box-sizing: border-box; font-size: 0.9375rem;\">a. A lista jelenítse&nbsp; meg a részösszegeket és&nbsp;</span> <span style=\"box-sizing: border-box; font-size: 0.9375rem;\">a végösszeget is (csak a végösszeget kell külön elnevezni)</span>"
            ],
            "metadata": {
                "azdata_cell_guid": "043fca32-bd28-4c7f-bd02-1a0be1b9bc28"
            }
        },
        {
            "cell_type": "code",
            "source": [
                "SELECT ISNULL(TIPUS,'VÉGÖSSZEG'),CSILLAGOK_SZAMA,Count(*)  from Szallashely GROUP BY ROLLUP(TIPUS,CSILLAGOK_SZAMA)"
            ],
            "metadata": {
                "azdata_cell_guid": "499093f9-ed85-46bc-b678-e6dfac14a859"
            },
            "outputs": [
{
    "output_type": "display_data",
    "data": {
        "text/html": "(12 rows affected)"
    },
    "metadata": {}
}, {
    "output_type": "display_data",
    "data": {
        "text/html": "Total execution time: 00:00:00.051"
    },
    "metadata": {}
}, {
    "output_type": "execute_result",
    "metadata": {},
    "execution_count": 8,
    "data": {
        "application/vnd.dataresource+json": {
            "schema": {
                "fields": [
                    {
                        "name": "(No column name)"
                    },
                    {
                        "name": "CSILLAGOK_SZAMA"
                    },
                    {
                        "name": "(No column name)"
                    }
                ]
            },
            "data": [
                {
                    "0": "Apartman",
                    "1": "0",
                    "2": "3"
                },
                {
                    "0": "Apartman",
                    "1": "NULL",
                    "2": "3"
                },
                {
                    "0": "Diákszálló",
                    "1": "0",
                    "2": "1"
                },
                {
                    "0": "Diákszálló",
                    "1": "NULL",
                    "2": "1"
                },
                {
                    "0": "Hotel",
                    "1": "3",
                    "2": "3"
                },
                {
                    "0": "Hotel",
                    "1": "4",
                    "2": "3"
                },
                {
                    "0": "Hotel",
                    "1": "NULL",
                    "2": "6"
                },
                {
                    "0": "panzió",
                    "1": "3",
                    "2": "5"
                },
                {
                    "0": "panzió",
                    "1": "NULL",
                    "2": "5"
                },
                {
                    "0": "vendégház",
                    "1": "0",
                    "2": "6"
                },
                {
                    "0": "vendégház",
                    "1": "NULL",
                    "2": "6"
                },
                {
                    "0": "VÉGÖSSZEG",
                    "1": "NULL",
                    "2": "21"
                }
            ]
        },
        "text/html": [
            "<table>",
            "<tr><th>(No column name)</th><th>CSILLAGOK_SZAMA</th><th>(No column name)</th></tr>",
            "<tr><td>Apartman</td><td>0</td><td>3</td></tr>",
            "<tr><td>Apartman</td><td>NULL</td><td>3</td></tr>",
            "<tr><td>Diákszálló</td><td>0</td><td>1</td></tr>",
            "<tr><td>Diákszálló</td><td>NULL</td><td>1</td></tr>",
            "<tr><td>Hotel</td><td>3</td><td>3</td></tr>",
            "<tr><td>Hotel</td><td>4</td><td>3</td></tr>",
            "<tr><td>Hotel</td><td>NULL</td><td>6</td></tr>",
            "<tr><td>panzió</td><td>3</td><td>5</td></tr>",
            "<tr><td>panzió</td><td>NULL</td><td>5</td></tr>",
            "<tr><td>vendégház</td><td>0</td><td>6</td></tr>",
            "<tr><td>vendégház</td><td>NULL</td><td>6</td></tr>",
            "<tr><td>VÉGÖSSZEG</td><td>NULL</td><td>21</td></tr>",
            "</table>"
        ]
    }
}
],
            "execution_count": 8
        }
    ]
}