{
    "metadata": {
        "kernelspec": {
            "name": "SQL",
            "display_name": "SQL",
            "language": "sql"
        },
        "language_info": {
            "name": "sql",
            "version": ""
        },
        "extensions": {
            "azuredatastudio": {
                "version": 1,
                "views": []
            }
        }
    },
    "nbformat_minor": 2,
    "nbformat": 4,
    "cells": [
        {
            "cell_type": "markdown",
            "source": [
                "Készítsünk sorszámozott listát a szálláshelyek adatairól! \n",
                "\n",
                "a. A lista legyen a szálláshely típusa szerint, azon belül hely szerint, majd a neve szerint növekvően rendezve! \n",
                "\n",
                "b. A számozás típusonként kezdődjön újra!"
            ],
            "metadata": {
                "azdata_cell_guid": "0169da75-dde6-481d-9a20-1bd4d783b662"
            },
            "attachments": {}
        },
        {
            "cell_type": "code",
            "source": [
                "select *,ROW_NUMBER() over(PARTITION by tipus order by tipus,hely,szallas_nev)\r\n",
                " from  Szallashely"
            ],
            "metadata": {
                "azdata_cell_guid": "815e3c22-0cf1-4b70-a8d8-3abee67807be",
                "tags": []
            },
            "outputs": [],
            "execution_count": null
        },
        {
            "cell_type": "markdown",
            "source": [
                "3\n",
                "\n",
                "Készítsük listát, amely megjeleníti az ügyfelek azonosítóját, nevét és a foglalásainak kezdő- és befejező dátumát, valamint azt, hogy a foglalás összesen hány főre történt! \n",
                "\n",
                "a. Egy új oszlopban jelenítsük meg azt is, hogy az ügyfél előző három foglalása összesen hány főre történt!"
            ],
            "metadata": {
                "azdata_cell_guid": "cf598654-16f0-433f-b948-48fc57101ab0"
            },
            "attachments": {}
        },
        {
            "cell_type": "code",
            "source": [
                "Select u.[LOGIN], u.NEV, f.METTOL, f.MEDDIG,f.FELNOTT_SZAM + f.GYERMEK_SZAM,\r\n",
                "sum(f.FELNOTT_SZAM + f.GYERMEK_SZAM) OVER (PARTITION by u.LOGIN ORDER by f.mettol ROWS BETWEEN 3 Preceding and 1 Preceding)\r\n",
                "from Foglalas f join  Ugyfel u on f.UGYFEL_FK=u.[LOGIN]"
            ],
            "metadata": {
                "azdata_cell_guid": "10a7a42b-a1ef-430a-8631-9e41405a0f7c",
                "tags": []
            },
            "outputs": [],
            "execution_count": null
        },
        {
            "cell_type": "markdown",
            "source": [
                "6\n",
                "\n",
                "<span style=\"color: rgb(18, 38, 44); font-family: Arial; font-size: 15px; background-color: rgb(239, 249, 252);\">Alakítsa át a melléklet 1. pontjában lévő lekérdezést úgy, hogy JOIN helyett CROSS APPLY-t alkalmaz!</span>  \n",
                "<span style=\"color: rgb(18, 38, 44); font-family: Arial; font-size: 15px; background-color: rgb(239, 249, 252);\">a. Válaszként adja meg az átalakított lekérdezés kódját!</span>"
            ],
            "metadata": {
                "azdata_cell_guid": "7c071c35-7e3f-43c3-97bc-69fa4d2eec64"
            },
            "attachments": {}
        },
        {
            "cell_type": "code",
            "source": [
                "SELECT rt.TERMEKKOD, \r\n",
                "       AVG(rt.EGYSEGAR) AS 'Átlagos ár'\r\n",
                "FROM Rendeles_tetel rt \r\n",
                "CROSS APPLY\r\n",
                "(\r\n",
                "    Select * from Rendeles r\r\n",
                "     where rt.SORSZAM = r.SORSZAM\r\n",
                ")r\r\n",
                "GROUP BY rt.TERMEKKOD"
            ],
            "metadata": {
                "azdata_cell_guid": "18a5dfae-0cbd-4d37-b0ce-623bbd8e6426"
            },
            "outputs": [],
            "execution_count": null
        }
    ]
}