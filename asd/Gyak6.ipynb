{
    "metadata": {
        "kernelspec": {
            "name": "SQL",
            "display_name": "SQL",
            "language": "sql"
        },
        "language_info": {
            "name": "sql",
            "version": ""
        },
        "extensions": {
            "azuredatastudio": {
                "version": 1,
                "views": []
            }
        }
    },
    "nbformat_minor": 2,
    "nbformat": 4,
    "cells": [
        {
            "cell_type": "code",
            "source": [
                "Drop table if EXISTS #Szerevezet\r\n",
                "Create TABLE #Szervezet\r\n",
                "(\r\n",
                "    Szint HIERARCHYID,\r\n",
                "    Beosztas NVARCHAR(100)\r\n",
                ")\r\n",
                "INSERT into #Szervezet VALUES('/1/','vezérigazgató')\r\n",
                "INSERT into #Szervezet VALUES('/1/1/','marketing igazgató')\r\n",
                "INSERT into #Szervezet VALUES('/1/2/','pénzügyi igazgató')\r\n",
                "INSERT into #Szervezet VALUES('/1/3/','ügyvezető igazgató')\r\n",
                "INSERT into #Szervezet VALUES('/1/1/1/','marketing osztály')\r\n",
                "INSERT into #Szervezet VALUES('/1/2/1/','pánzügyi osztály')\r\n",
                "INSERT into #Szervezet VALUes('/1/3/1/','termelési osztály')\r\n",
                "\r\n",
                "Select CAST(szint as nvarchar(100)),\r\n",
                "        Beosztas\r\n",
                "From #Szervezet"
            ],
            "metadata": {
                "azdata_cell_guid": "8e4fd57b-3e7d-4f57-8f74-ee7a1fd29050"
            },
            "outputs": [],
            "execution_count": null
        },
        {
            "cell_type": "code",
            "source": [
                "DECLARE @k GEOGRAPHY\r\n",
                "set @k = GEOGRAPHY::STGeomFromText('Point(46.90616 19.69128)', 4236)\r\n",
                "\r\n",
                "DECLARE @sz GEOGRAPHY\r\n",
                "set @sz = GEOGRAPHY::STGeomFromText('Point(47.186 18.4221)', 4236)\r\n",
                "\r\n",
                "SELECT @k.STDistance(@sz)\r\n",
                ""
            ],
            "metadata": {
                "azdata_cell_guid": "da2df4b9-54d9-40c7-bd24-03bc9b83fe01"
            },
            "outputs": [
                {
                    "output_type": "display_data",
                    "data": {
                        "text/html": "(1 row affected)"
                    },
                    "metadata": {}
                },
                {
                    "output_type": "display_data",
                    "data": {
                        "text/html": "Total execution time: 00:00:00.103"
                    },
                    "metadata": {}
                },
                {
                    "output_type": "execute_result",
                    "metadata": {},
                    "execution_count": 1,
                    "data": {
                        "application/vnd.dataresource+json": {
                            "schema": {
                                "fields": [
                                    {
                                        "name": "(No column name)"
                                    }
                                ]
                            },
                            "data": [
                                {
                                    "0": "143545.81627163012"
                                }
                            ]
                        },
                        "text/html": [
                            "<table>",
                            "<tr><th>(No column name)</th></tr>",
                            "<tr><td>143545.81627163012</td></tr>",
                            "</table>"
                        ]
                    }
                }
            ],
            "execution_count": 1
        },
        {
            "cell_type": "code",
            "source": [
                "DECLARE @js NVARCHAR(1000)= N'[\r\n",
                "\r\n",
                "    {\"name\":\"Shyam\", \"email\":\"shyamjaiswal@gmail.com\"},\r\n",
                "\r\n",
                "    {\"name\":\"Bob\", \"email\":\"bob32@gmail.com\"},  \r\n",
                "\r\n",
                "    {\"name\":\"Jai\", \"email\":\"jai87@gmail.com\"}  \r\n",
                "\r\n",
                "  ]'\r\n",
                "  Select *from OPENJSON(@js)\r\n",
                "  WITH\r\n",
                "  (\r\n",
                "name NVARCHAR(100) '$.name',\r\n",
                "email NVARCHAR(100) '$.email'\r\n",
                "  )"
            ],
            "metadata": {
                "azdata_cell_guid": "49760c53-79d1-416f-9de6-2cba8205318d"
            },
            "outputs": [],
            "execution_count": null
        },
        {
            "cell_type": "code",
            "source": [
                "with cte_atlag AS\r\n",
                "(\r\n",
                "    SELECT avg(DATEDIFF(day,METTOL,Meddig)) AS 'átlag' from Foglalas\r\n",
                ")\r\n",
                "SELECT FOGLALAS_PK,\r\n",
                "       METTOL,\r\n",
                "       MEDDIG\r\n",
                "FROM Foglalas\r\n",
                "WHERE DATEDIFF(day, METTOL, MEDDIG) >\r\n",
                "(\r\n",
                "  SELECT átlag \r\n",
                "  FROM cte_atlag\r\n",
                ")\r\n",
                ""
            ],
            "metadata": {
                "azdata_cell_guid": "b3b07855-abd3-42af-8c0a-55c775bda6d7"
            },
            "outputs": [],
            "execution_count": null
        },
        {
            "cell_type": "code",
            "source": [
                "SELECT 'db' AS 'db szám csillagokként', [1], [2], [3], [4], [5]\r\n",
                "\r\n",
                "FROM (\r\n",
                "SELECT Szallas_ID, CSILLAGOK_SZAMA FROM\r\n",
                "Szallashely\r\n",
                ") AS fh\r\n",
                "PIVOT\r\n",
                "(\r\n",
                "COUNT(szallas_id) --aggregálás\r\n",
                "FOR csillagok_szama in ([1], [2], [3], [4], [5])\r\n",
                ")\r\n",
                "AS pivottabla\r\n",
                ""
            ],
            "metadata": {
                "azdata_cell_guid": "0dc9c2ad-e74a-4036-8411-5f025ef163d4"
            },
            "outputs": [],
            "execution_count": null
        },
        {
            "cell_type": "code",
            "source": [
                "DECLARE @datum date='2016-04-10'\r\n",
                "DECLARE  @sql NVARCHAR(1000)\r\n",
                "set @sql = N'Select * From Fogalalas Where METTOL='''+ Cast(@datum as nvarchar(10))+ ''''\r\n",
                "Print @sql\r\n",
                "Exec (@sql)"
            ],
            "metadata": {
                "azdata_cell_guid": "ec4c70b0-1ed7-47fc-aef1-1ecaa526a0ad"
            },
            "outputs": [
                {
                    "output_type": "display_data",
                    "data": {
                        "text/html": "Select * From Fogalalas Where METTOL='2016-04-10'"
                    },
                    "metadata": {}
                },
                {
                    "output_type": "error",
                    "evalue": "Msg 208, Level 16, State 1, Line 1\r\nInvalid object name 'Fogalalas'.",
                    "ename": "",
                    "traceback": []
                },
                {
                    "output_type": "display_data",
                    "data": {
                        "text/html": "Total execution time: 00:00:00.353"
                    },
                    "metadata": {}
                }
            ],
            "execution_count": 2
        },
        {
            "cell_type": "code",
            "source": [
                "DECLARE @id NVARCHAR(100)\r\n",
                "DECLARE @nev NVARCHAR(100)\r\n",
                "DECLARE k CURSOR FOR\r\n",
                "Select SZALLAS_ID,SZALLAS_NEV from Szallashely\r\n",
                "OPEN k \r\n",
                "FETCH NEXT from k into @id, @nev\r\n",
                "while @@FETCH_STATUS =0\r\n",
                "BEGIN\r\n",
                "print  @id  + ',' + @nev\r\n",
                "FETCH NEXT from k into @id, @nev\r\n",
                "END\r\n",
                "close k \r\n",
                "DEALLOCATE k "
            ],
            "metadata": {
                "azdata_cell_guid": "5dc4e25b-449a-40f9-bf8f-be8a82c39d86"
            },
            "outputs": [],
            "execution_count": null
        }
    ]
}