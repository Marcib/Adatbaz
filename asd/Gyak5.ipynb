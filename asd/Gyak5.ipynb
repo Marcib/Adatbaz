{
    "metadata": {
        "kernelspec": {
            "name": "SQL",
            "display_name": "SQL",
            "language": "sql"
        },
        "language_info": {
            "name": "sql",
            "version": ""
        },
        "extensions": {
            "azuredatastudio": {
                "version": 1,
                "views": []
            }
        }
    },
    "nbformat_minor": 2,
    "nbformat": 4,
    "cells": [
        {
            "cell_type": "markdown",
            "source": [
                "Deklaráljon egy xml típusú változót, amelynek tartalma a melléklet 2. pontjában található. \n",
                "\n",
                "a. Készítsen lekérdezést, amely az xml fájlból csak a megrendelések (Order) adatait jeleníti meg xml formátumban"
            ],
            "metadata": {
                "azdata_cell_guid": "a6a6b160-e431-4c26-a273-60dafa83f335"
            },
            "attachments": {}
        },
        {
            "cell_type": "code",
            "source": [
                "Declare @xml XML\r\n",
                "SET @xml =N'\r\n",
                "<CustomersOrders>\r\n",
                " <Customer custid=\"1\">\r\n",
                " <!-- Comment 111 -->\r\n",
                " <companyname>Customer NRZBB</companyname>\r\n",
                " <Order orderid=\"10692\">\r\n",
                " <orderdate>2007-10-03T00:00:00</orderdate>\r\n",
                " </Order>\r\n",
                " <Order orderid=\"10702\">\r\n",
                " <orderdate>2007-10-13T00:00:00</orderdate>\r\n",
                " </Order>\r\n",
                " <Order orderid=\"10952\">\r\n",
                " <orderdate>2008-03-16T00:00:00</orderdate>\r\n",
                " </Order>\r\n",
                " </Customer>\r\n",
                " <Customer custid=\"2\">\r\n",
                " <!-- Comment 222 --> \r\n",
                " <companyname>Customer MLTDN</companyname>\r\n",
                " <Order orderid=\"10308\">\r\n",
                " <orderdate>2006-09-18T00:00:00</orderdate>\r\n",
                " </Order>\r\n",
                " <Order orderid=\"10952\">\r\n",
                " <orderdate>2008-03-04T00:00:00</orderdate>\r\n",
                " </Order>\r\n",
                " </Customer>\r\n",
                "</CustomersOrders>'\r\n",
                "\r\n",
                "Select @xml.query('/CustomersOrders/Customer/Order')"
            ],
            "metadata": {
                "azdata_cell_guid": "b97327c5-aeeb-4b47-9ba6-c5f98e8e9fc9"
            },
            "outputs": [],
            "execution_count": null
        },
        {
            "cell_type": "markdown",
            "source": [
                "Készítsen lekérdezést, amely megjeleníti azon klímás szobák azonosítóját és számát, amelyek pótággyal együtt 4-nél több fő számára biztosítanak helyet!\n",
                "\n",
                "a. A lekérdezés eredménye XML formátumban jelenjen meg a melléklet 3. pontjában látható elrendezésben!"
            ],
            "metadata": {
                "azdata_cell_guid": "40e12c64-ef56-49cb-b206-04aa9709db89"
            },
            "attachments": {}
        },
        {
            "cell_type": "code",
            "source": [
                "SELECT Szoba_ID, Szoba_Szama\r\n",
                "from Szoba\r\n",
                "where KLIMAS ='i' and FEROHELY + POTAGY>=4\r\n",
                "for XML auto, Elements"
            ],
            "metadata": {
                "azdata_cell_guid": "1edf1b95-50c9-445a-8638-c3c49392c39b"
            },
            "outputs": [],
            "execution_count": null
        },
        {
            "cell_type": "markdown",
            "source": [
                "Készítsen tábla formátumot 2. pontjában lévő xml-ből, amely csak a rendelések számát és dátumát tartalmazza!\n",
                "\n",
                "a. Használja  az OPENXML() függvényt a WITH záradékkal együtt (ld. 29-es dia)"
            ],
            "metadata": {
                "azdata_cell_guid": "e773f141-4d78-41df-9e33-7ea2e777b38d"
            },
            "attachments": {}
        },
        {
            "cell_type": "code",
            "source": [
                "Declare @idoc int\r\n",
                "Declare @doc XML\r\n",
                "SET @doc =N'\r\n",
                "<CustomersOrders>\r\n",
                " <Customer custid=\"1\">\r\n",
                " <!-- Comment 111 -->\r\n",
                " <companyname>Customer NRZBB</companyname>\r\n",
                " <Order orderid=\"10692\">\r\n",
                " <orderdate>2007-10-03T00:00:00</orderdate>\r\n",
                " </Order>\r\n",
                " <Order orderid=\"10702\">\r\n",
                " <orderdate>2007-10-13T00:00:00</orderdate>\r\n",
                " </Order>\r\n",
                " <Order orderid=\"10952\">\r\n",
                " <orderdate>2008-03-16T00:00:00</orderdate>\r\n",
                " </Order>\r\n",
                " </Customer>\r\n",
                " <Customer custid=\"2\">\r\n",
                " <!-- Comment 222 --> \r\n",
                " <companyname>Customer MLTDN</companyname>\r\n",
                " <Order orderid=\"10308\">\r\n",
                " <orderdate>2006-09-18T00:00:00</orderdate>\r\n",
                " </Order>\r\n",
                " <Order orderid=\"10952\">\r\n",
                " <orderdate>2008-03-04T00:00:00</orderdate>\r\n",
                " </Order>\r\n",
                " </Customer>\r\n",
                "</CustomersOrders>'\r\n",
                "EXEC sp_xml_preparedocument\r\n",
                "@idoc OUTPUT, @doc\r\n",
                "SELECT * FROM OPENXML (@idoc,\r\n",
                "'/CustomersOrders/Customer/Order',2)\r\n",
                "WITH (orderid int '@orderid',\r\n",
                "orderdate datetime 'orderdate')\r\n",
                "\r\n",
                "exec sp_xml_removedocument @idoc\r\n",
                ""
            ],
            "metadata": {
                "azdata_cell_guid": "0c28a1d3-f66b-453c-89fe-8ecc8a6c52b8"
            },
            "outputs": [
                {
                    "output_type": "display_data",
                    "data": {
                        "text/html": "(5 rows affected)"
                    },
                    "metadata": {}
                },
                {
                    "output_type": "display_data",
                    "data": {
                        "text/html": "Total execution time: 00:00:00.050"
                    },
                    "metadata": {}
                },
                {
                    "output_type": "execute_result",
                    "metadata": {},
                    "execution_count": 5,
                    "data": {
                        "application/vnd.dataresource+json": {
                            "schema": {
                                "fields": [
                                    {
                                        "name": "orderid"
                                    },
                                    {
                                        "name": "orderdate"
                                    }
                                ]
                            },
                            "data": [
                                {
                                    "0": "10692",
                                    "1": "2007-10-03 00:00:00.000"
                                },
                                {
                                    "0": "10702",
                                    "1": "2007-10-13 00:00:00.000"
                                },
                                {
                                    "0": "10952",
                                    "1": "2008-03-16 00:00:00.000"
                                },
                                {
                                    "0": "10308",
                                    "1": "2006-09-18 00:00:00.000"
                                },
                                {
                                    "0": "10952",
                                    "1": "2008-03-04 00:00:00.000"
                                }
                            ]
                        },
                        "text/html": [
                            "<table>",
                            "<tr><th>orderid</th><th>orderdate</th></tr>",
                            "<tr><td>10692</td><td>2007-10-03 00:00:00.000</td></tr>",
                            "<tr><td>10702</td><td>2007-10-13 00:00:00.000</td></tr>",
                            "<tr><td>10952</td><td>2008-03-16 00:00:00.000</td></tr>",
                            "<tr><td>10308</td><td>2006-09-18 00:00:00.000</td></tr>",
                            "<tr><td>10952</td><td>2008-03-04 00:00:00.000</td></tr>",
                            "</table>"
                        ]
                    }
                }
            ],
            "execution_count": 5
        }
    ]
}