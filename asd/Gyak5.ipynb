{
    "metadata": {
        "kernelspec": {
            "name": "SQL",
            "display_name": "SQL",
            "language": "sql"
        },
        "language_info": {
            "name": "sql",
            "version": ""
        },
        "extensions": {
            "azuredatastudio": {
                "version": 1,
                "views": []
            }
        }
    },
    "nbformat_minor": 2,
    "nbformat": 4,
    "cells": [
        {
            "cell_type": "code",
            "source": [
                "Declare @xml XML\r\n",
                "SET @xml =N'\r\n",
                "<CustomersOrders>\r\n",
                " <Customer custid=\"1\">\r\n",
                " <!-- Comment 111 -->\r\n",
                " <companyname>Customer NRZBB</companyname>\r\n",
                " <Order orderid=\"10692\">\r\n",
                " <orderdate>2007-10-03T00:00:00</orderdate>\r\n",
                " </Order>\r\n",
                " <Order orderid=\"10702\">\r\n",
                " <orderdate>2007-10-13T00:00:00</orderdate>\r\n",
                " </Order>\r\n",
                " <Order orderid=\"10952\">\r\n",
                " <orderdate>2008-03-16T00:00:00</orderdate>\r\n",
                " </Order>\r\n",
                " </Customer>\r\n",
                " <Customer custid=\"2\">\r\n",
                " <!-- Comment 222 --> \r\n",
                " <companyname>Customer MLTDN</companyname>\r\n",
                " <Order orderid=\"10308\">\r\n",
                " <orderdate>2006-09-18T00:00:00</orderdate>\r\n",
                " </Order>\r\n",
                " <Order orderid=\"10952\">\r\n",
                " <orderdate>2008-03-04T00:00:00</orderdate>\r\n",
                " </Order>\r\n",
                " </Customer>\r\n",
                "</CustomersOrders>'\r\n",
                "\r\n",
                "Select @xml.query('/CustomersOrders/Customer/Order')"
            ],
            "metadata": {
                "azdata_cell_guid": "b97327c5-aeeb-4b47-9ba6-c5f98e8e9fc9"
            },
            "outputs": [
                {
                    "output_type": "display_data",
                    "data": {
                        "text/html": "(1 row affected)"
                    },
                    "metadata": {}
                },
                {
                    "output_type": "display_data",
                    "data": {
                        "text/html": "Total execution time: 00:00:00.125"
                    },
                    "metadata": {}
                },
                {
                    "output_type": "execute_result",
                    "metadata": {},
                    "execution_count": 1,
                    "data": {
                        "application/vnd.dataresource+json": {
                            "schema": {
                                "fields": [
                                    {
                                        "name": "(No column name)"
                                    }
                                ]
                            },
                            "data": [
                                {
                                    "0": "<Order orderid=\"10692\"><orderdate>2007-10-03T00:00:00</orderdate></Order><Order orderid=\"10702\"><orderdate>2007-10-13T00:00:00</orderdate></Order><Order orderid=\"10952\"><orderdate>2008-03-16T00:00:00</orderdate></Order><Order orderid=\"10308\"><orderdate>2006-09-18T00:00:00</orderdate></Order><Order orderid=\"10952\"><orderdate>2008-03-04T00:00:00</orderdate></Order>"
                                }
                            ]
                        },
                        "text/html": [
                            "<table>",
                            "<tr><th>(No column name)</th></tr>",
                            "<tr><td>&lt;Order orderid=&quot;10692&quot;&gt;&lt;orderdate&gt;2007-10-03T00:00:00&lt;/orderdate&gt;&lt;/Order&gt;&lt;Order orderid=&quot;10702&quot;&gt;&lt;orderdate&gt;2007-10-13T00:00:00&lt;/orderdate&gt;&lt;/Order&gt;&lt;Order orderid=&quot;10952&quot;&gt;&lt;orderdate&gt;2008-03-16T00:00:00&lt;/orderdate&gt;&lt;/Order&gt;&lt;Order orderid=&quot;10308&quot;&gt;&lt;orderdate&gt;2006-09-18T00:00:00&lt;/orderdate&gt;&lt;/Order&gt;&lt;Order orderid=&quot;10952&quot;&gt;&lt;orderdate&gt;2008-03-04T00:00:00&lt;/orderdate&gt;&lt;/Order&gt;</td></tr>",
                            "</table>"
                        ]
                    }
                }
            ],
            "execution_count": 1
        }
    ]
}